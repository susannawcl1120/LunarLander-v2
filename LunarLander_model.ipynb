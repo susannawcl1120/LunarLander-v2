{
  "nbformat": 4,
  "nbformat_minor": 0,
  "metadata": {
    "kernelspec": {
      "name": "python3",
      "display_name": "Python 3"
    },
    "language_info": {
      "codemirror_mode": {
        "name": "ipython",
        "version": 3
      },
      "file_extension": ".py",
      "mimetype": "text/x-python",
      "name": "python",
      "nbconvert_exporter": "python",
      "pygments_lexer": "ipython3",
      "version": "3.6.5"
    },
    "colab": {
      "name": "Susanna_AI_final.ipynb",
      "provenance": [],
      "collapsed_sections": []
    },
    "accelerator": "GPU"
  },
  "cells": [
    {
      "cell_type": "code",
      "metadata": {
        "id": "2YvrFR8_MZZE",
        "colab_type": "code",
        "colab": {}
      },
      "source": [
        "#remove \" > /dev/null 2>&1\" to see what is going on under the hood\n",
        "!pip install gym pyvirtualdisplay > /dev/null 2>&1\n",
        "!apt-get install -y xvfb python-opengl ffmpeg > /dev/null 2>&1"
      ],
      "execution_count": 0,
      "outputs": []
    },
    {
      "cell_type": "markdown",
      "metadata": {
        "id": "F0v-NYQRnYkr",
        "colab_type": "text"
      },
      "source": [
        "# 應用Keras-rl tensorflow 2.0 版在Gym環境學習Lunar Lander策略\n"
      ]
    },
    {
      "cell_type": "code",
      "metadata": {
        "id": "4PV579lUps2i",
        "colab_type": "code",
        "colab": {}
      },
      "source": [
        "!pip install tensorflow==2.0.0-beta > /dev/null 2>&1"
      ],
      "execution_count": 0,
      "outputs": []
    },
    {
      "cell_type": "code",
      "metadata": {
        "id": "xctePkVE2pvX",
        "colab_type": "code",
        "outputId": "3b8e6bb0-b906-420f-de77-7d4f76df4759",
        "colab": {
          "base_uri": "https://localhost:8080/",
          "height": 33
        }
      },
      "source": [
        "!pip install box2d-py"
      ],
      "execution_count": 5,
      "outputs": [
        {
          "output_type": "stream",
          "text": [
            "Requirement already satisfied: box2d-py in /usr/local/lib/python3.6/dist-packages (2.3.8)\n"
          ],
          "name": "stdout"
        }
      ]
    },
    {
      "cell_type": "code",
      "metadata": {
        "id": "H9PKqkMtK9M4",
        "colab_type": "code",
        "outputId": "4e7b2c4f-0a21-4b39-cbf4-0d7c9d40a4d4",
        "colab": {
          "base_uri": "https://localhost:8080/",
          "height": 416
        }
      },
      "source": [
        "import gym\n",
        "from gym import logger as gymlogger\n",
        "from gym.wrappers import Monitor\n",
        "gymlogger.set_level(40) #error only\n",
        "import tensorflow.compat.v2 as tf\n",
        "import random\n",
        "import numpy as np\n",
        "from tensorflow.keras.layers import Dense, Flatten\n",
        "from tensorflow.keras.models import Sequential\n",
        "from tensorflow.keras.optimizers import Adam\n",
        "\n",
        "import sys\n",
        "import math\n",
        "\n",
        "import Box2D\n",
        "from Box2D.b2 import (edgeShape, circleShape, fixtureDef, polygonShape, revoluteJointDef, contactListener)\n",
        "\n",
        "from gym import spaces\n",
        "from gym.utils import colorize, seeding, EzPickle"
      ],
      "execution_count": 6,
      "outputs": [
        {
          "output_type": "stream",
          "text": [
            "/usr/local/lib/python3.6/dist-packages/tensorflow/python/framework/dtypes.py:516: FutureWarning: Passing (type, 1) or '1type' as a synonym of type is deprecated; in a future version of numpy, it will be understood as (type, (1,)) / '(1,)type'.\n",
            "  _np_qint8 = np.dtype([(\"qint8\", np.int8, 1)])\n",
            "/usr/local/lib/python3.6/dist-packages/tensorflow/python/framework/dtypes.py:517: FutureWarning: Passing (type, 1) or '1type' as a synonym of type is deprecated; in a future version of numpy, it will be understood as (type, (1,)) / '(1,)type'.\n",
            "  _np_quint8 = np.dtype([(\"quint8\", np.uint8, 1)])\n",
            "/usr/local/lib/python3.6/dist-packages/tensorflow/python/framework/dtypes.py:518: FutureWarning: Passing (type, 1) or '1type' as a synonym of type is deprecated; in a future version of numpy, it will be understood as (type, (1,)) / '(1,)type'.\n",
            "  _np_qint16 = np.dtype([(\"qint16\", np.int16, 1)])\n",
            "/usr/local/lib/python3.6/dist-packages/tensorflow/python/framework/dtypes.py:519: FutureWarning: Passing (type, 1) or '1type' as a synonym of type is deprecated; in a future version of numpy, it will be understood as (type, (1,)) / '(1,)type'.\n",
            "  _np_quint16 = np.dtype([(\"quint16\", np.uint16, 1)])\n",
            "/usr/local/lib/python3.6/dist-packages/tensorflow/python/framework/dtypes.py:520: FutureWarning: Passing (type, 1) or '1type' as a synonym of type is deprecated; in a future version of numpy, it will be understood as (type, (1,)) / '(1,)type'.\n",
            "  _np_qint32 = np.dtype([(\"qint32\", np.int32, 1)])\n",
            "/usr/local/lib/python3.6/dist-packages/tensorflow/python/framework/dtypes.py:525: FutureWarning: Passing (type, 1) or '1type' as a synonym of type is deprecated; in a future version of numpy, it will be understood as (type, (1,)) / '(1,)type'.\n",
            "  np_resource = np.dtype([(\"resource\", np.ubyte, 1)])\n",
            "/usr/local/lib/python3.6/dist-packages/tensorboard/compat/tensorflow_stub/dtypes.py:541: FutureWarning: Passing (type, 1) or '1type' as a synonym of type is deprecated; in a future version of numpy, it will be understood as (type, (1,)) / '(1,)type'.\n",
            "  _np_qint8 = np.dtype([(\"qint8\", np.int8, 1)])\n",
            "/usr/local/lib/python3.6/dist-packages/tensorboard/compat/tensorflow_stub/dtypes.py:542: FutureWarning: Passing (type, 1) or '1type' as a synonym of type is deprecated; in a future version of numpy, it will be understood as (type, (1,)) / '(1,)type'.\n",
            "  _np_quint8 = np.dtype([(\"quint8\", np.uint8, 1)])\n",
            "/usr/local/lib/python3.6/dist-packages/tensorboard/compat/tensorflow_stub/dtypes.py:543: FutureWarning: Passing (type, 1) or '1type' as a synonym of type is deprecated; in a future version of numpy, it will be understood as (type, (1,)) / '(1,)type'.\n",
            "  _np_qint16 = np.dtype([(\"qint16\", np.int16, 1)])\n",
            "/usr/local/lib/python3.6/dist-packages/tensorboard/compat/tensorflow_stub/dtypes.py:544: FutureWarning: Passing (type, 1) or '1type' as a synonym of type is deprecated; in a future version of numpy, it will be understood as (type, (1,)) / '(1,)type'.\n",
            "  _np_quint16 = np.dtype([(\"quint16\", np.uint16, 1)])\n",
            "/usr/local/lib/python3.6/dist-packages/tensorboard/compat/tensorflow_stub/dtypes.py:545: FutureWarning: Passing (type, 1) or '1type' as a synonym of type is deprecated; in a future version of numpy, it will be understood as (type, (1,)) / '(1,)type'.\n",
            "  _np_qint32 = np.dtype([(\"qint32\", np.int32, 1)])\n",
            "/usr/local/lib/python3.6/dist-packages/tensorboard/compat/tensorflow_stub/dtypes.py:550: FutureWarning: Passing (type, 1) or '1type' as a synonym of type is deprecated; in a future version of numpy, it will be understood as (type, (1,)) / '(1,)type'.\n",
            "  np_resource = np.dtype([(\"resource\", np.ubyte, 1)])\n"
          ],
          "name": "stderr"
        }
      ]
    },
    {
      "cell_type": "code",
      "metadata": {
        "id": "Qv9hfBxGQBYH",
        "colab_type": "code",
        "outputId": "0bcd2b57-2da7-4a57-b034-db9549e6a431",
        "colab": {
          "base_uri": "https://localhost:8080/",
          "height": 33
        }
      },
      "source": [
        "tf.enable_v2_behavior()\n",
        "print(tf.__version__)"
      ],
      "execution_count": 7,
      "outputs": [
        {
          "output_type": "stream",
          "text": [
            "2.0.0-beta0\n"
          ],
          "name": "stdout"
        }
      ]
    },
    {
      "cell_type": "code",
      "metadata": {
        "id": "VusMq_BFL-tv",
        "colab_type": "code",
        "colab": {}
      },
      "source": [
        "import matplotlib\n",
        "import matplotlib.pyplot as plt\n",
        "%matplotlib inline\n",
        "import math\n",
        "import glob\n",
        "import io\n",
        "import base64\n",
        "from IPython.display import HTML\n",
        "\n",
        "from IPython import display as ipythondisplay"
      ],
      "execution_count": 0,
      "outputs": []
    },
    {
      "cell_type": "code",
      "metadata": {
        "id": "FW9PrnFRMNV9",
        "colab_type": "code",
        "outputId": "552da2b2-a805-4713-ab18-43a89f0bd028",
        "colab": {
          "base_uri": "https://localhost:8080/",
          "height": 50
        }
      },
      "source": [
        "from pyvirtualdisplay import Display\n",
        "display = Display(visible=0, size=(1400, 900))\n",
        "display.start()"
      ],
      "execution_count": 9,
      "outputs": [
        {
          "output_type": "stream",
          "text": [
            "xdpyinfo was not found, X start can not be checked! Please install xdpyinfo!\n"
          ],
          "name": "stderr"
        },
        {
          "output_type": "execute_result",
          "data": {
            "text/plain": [
              "<Display cmd_param=['Xvfb', '-br', '-nolisten', 'tcp', '-screen', '0', '1400x900x24', ':1001'] cmd=['Xvfb', '-br', '-nolisten', 'tcp', '-screen', '0', '1400x900x24', ':1001'] oserror=None return_code=None stdout=\"None\" stderr=\"None\" timeout_happened=False>"
            ]
          },
          "metadata": {
            "tags": []
          },
          "execution_count": 9
        }
      ]
    },
    {
      "cell_type": "code",
      "metadata": {
        "id": "kdr6bOyTMmR_",
        "colab_type": "code",
        "colab": {}
      },
      "source": [
        "def show_video():\n",
        "  mp4list = glob.glob('video/*.mp4')\n",
        "  if len(mp4list) > 0:\n",
        "    mp4 = mp4list[0]\n",
        "    video = io.open(mp4, 'r+b').read()\n",
        "    encoded = base64.b64encode(video)\n",
        "    ipythondisplay.display(HTML(data='''<video alt=\"test\" autoplay \n",
        "                loop controls style=\"height: 400px;\">\n",
        "                <source src=\"data:video/mp4;base64,{0}\" type=\"video/mp4\" />\n",
        "             </video>'''.format(encoded.decode('ascii'))))\n",
        "  else: \n",
        "    print(\"Could not find video\")\n",
        "    \n",
        "\n",
        "def wrap_env(env):\n",
        "  env = Monitor(env, './video', force=True)\n",
        "  return env"
      ],
      "execution_count": 0,
      "outputs": []
    },
    {
      "cell_type": "markdown",
      "metadata": {
        "id": "M9VOfu8boHka",
        "colab_type": "text"
      },
      "source": [
        "## 模擬隨機行為"
      ]
    },
    {
      "cell_type": "code",
      "metadata": {
        "id": "0eR4TdRlfLa0",
        "colab_type": "code",
        "colab": {}
      },
      "source": [
        "from random import randrange\n",
        "def action_my():\n",
        "  return(randrange(4))"
      ],
      "execution_count": 0,
      "outputs": []
    },
    {
      "cell_type": "markdown",
      "metadata": {
        "id": "r1gAtu3OM0vW",
        "colab_type": "text"
      },
      "source": [
        "# Wrap env 纔可以在Colab上看Lunar Lander的模擬影片"
      ]
    },
    {
      "cell_type": "code",
      "metadata": {
        "id": "a0Cw_rDSOcYd",
        "colab_type": "code",
        "outputId": "df7aa2bb-a175-4a65-88d1-b03abc288931",
        "colab": {
          "base_uri": "https://localhost:8080/",
          "height": 116
        }
      },
      "source": [
        "env = wrap_env(gym.make('LunarLander-v2')) \n",
        "\n",
        "np.random.seed(123)\n",
        "env.seed(123)\n",
        "\n",
        "total_timesteps = 0\n",
        "for i_episode in range(5):\n",
        "    observation = env.reset()\n",
        "    for t in range(500):\n",
        "        env.render()\n",
        "        action = action_my()\n",
        "        # action = env.action_space.sample()\n",
        "        observation, reward, done, info = env.step(action)\n",
        "\n",
        "        if done:\n",
        "            print(\"Episode finished after {} timesteps\".format(t+1))\n",
        "            total_timesteps += (t+1)\n",
        "            break\n",
        "\n",
        "print('Average score over {} random strategy games: {}'.format(i_episode+1, total_timesteps/(i_episode+1)))\n",
        "env.close()"
      ],
      "execution_count": 12,
      "outputs": [
        {
          "output_type": "stream",
          "text": [
            "Episode finished after 83 timesteps\n",
            "Episode finished after 88 timesteps\n",
            "Episode finished after 95 timesteps\n",
            "Episode finished after 84 timesteps\n",
            "Episode finished after 154 timesteps\n",
            "Average score over 5 random strategy games: 100.8\n"
          ],
          "name": "stdout"
        }
      ]
    },
    {
      "cell_type": "code",
      "metadata": {
        "id": "kupKN8YR3MAg",
        "colab_type": "code",
        "outputId": "ca34c84a-3c7e-4be1-f5d3-b1c5e4efd1fe",
        "colab": {
          "base_uri": "https://localhost:8080/",
          "height": 420
        }
      },
      "source": [
        "show_video()"
      ],
      "execution_count": 13,
      "outputs": [
        {
          "output_type": "display_data",
          "data": {
            "text/html": [
              "<video alt=\"test\" autoplay \n",
              "                loop controls style=\"height: 400px;\">\n",
              "                <source src=\"data:video/mp4;base64,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\" type=\"video/mp4\" />\n",
              "             </video>"
            ],
            "text/plain": [
              "<IPython.core.display.HTML object>"
            ]
          },
          "metadata": {
            "tags": []
          }
        }
      ]
    },
    {
      "cell_type": "markdown",
      "metadata": {
        "id": "IXR0G5Qyrtve",
        "colab_type": "text"
      },
      "source": [
        "## 安裝Keras-rl tensorflow 2.0 beta0版"
      ]
    },
    {
      "cell_type": "code",
      "metadata": {
        "id": "8M2VAgBaLuf_",
        "colab_type": "code",
        "colab": {}
      },
      "source": [
        "!pip install keras-rl2 > /dev/null 2>&1"
      ],
      "execution_count": 0,
      "outputs": []
    },
    {
      "cell_type": "markdown",
      "metadata": {
        "id": "qBlgtNAJD-eR",
        "colab_type": "text"
      },
      "source": [
        "# 若要重新訓練，跑這以後的程式區塊即可 ..."
      ]
    },
    {
      "cell_type": "code",
      "metadata": {
        "id": "liKPlNZjRHt4",
        "colab_type": "code",
        "outputId": "cd655e69-ded7-4d0b-c220-705d30f1b40a",
        "colab": {
          "base_uri": "https://localhost:8080/",
          "height": 33
        }
      },
      "source": [
        "env = gym.make('LunarLander-v2')\n",
        "np.random.seed(3310)\n",
        "env.seed(3310)"
      ],
      "execution_count": 15,
      "outputs": [
        {
          "output_type": "execute_result",
          "data": {
            "text/plain": [
              "[3310]"
            ]
          },
          "metadata": {
            "tags": []
          },
          "execution_count": 15
        }
      ]
    },
    {
      "cell_type": "markdown",
      "metadata": {
        "id": "c6vOF5RbseHs",
        "colab_type": "text"
      },
      "source": [
        "## 定義神經網路的架構，輸入參數分別是狀態的維度及可執行的行動數量"
      ]
    },
    {
      "cell_type": "code",
      "metadata": {
        "id": "BNjrBSzMK9NL",
        "colab_type": "code",
        "outputId": "765be4a3-30e0-4ff2-8ddf-068eae2c578d",
        "colab": {
          "base_uri": "https://localhost:8080/",
          "height": 333
        }
      },
      "source": [
        "def agent(states, actions):\n",
        "    model = Sequential()\n",
        "    model.add(Flatten(input_shape = (1, states)))\n",
        "    model.add(Dense(128, activation='relu'))\n",
        "    model.add(Dense(128, activation='relu'))\n",
        "    model.add(Dense(128, activation='relu'))\n",
        "    model.add(Dense(actions, activation='linear'))\n",
        "#    model.add(Dense(actions, activation='sigmoid'))\n",
        "    return model\n",
        "  \n",
        "model = agent(env.observation_space.shape[0], env.action_space.n)\n",
        "# model = agent(env.observation_space.shape[0], env.action_space.shape[0])\n",
        "print(model.summary())"
      ],
      "execution_count": 16,
      "outputs": [
        {
          "output_type": "stream",
          "text": [
            "Model: \"sequential\"\n",
            "_________________________________________________________________\n",
            "Layer (type)                 Output Shape              Param #   \n",
            "=================================================================\n",
            "flatten (Flatten)            (None, 8)                 0         \n",
            "_________________________________________________________________\n",
            "dense (Dense)                (None, 128)               1152      \n",
            "_________________________________________________________________\n",
            "dense_1 (Dense)              (None, 128)               16512     \n",
            "_________________________________________________________________\n",
            "dense_2 (Dense)              (None, 128)               16512     \n",
            "_________________________________________________________________\n",
            "dense_3 (Dense)              (None, 4)                 516       \n",
            "=================================================================\n",
            "Total params: 34,692\n",
            "Trainable params: 34,692\n",
            "Non-trainable params: 0\n",
            "_________________________________________________________________\n",
            "None\n"
          ],
          "name": "stdout"
        }
      ]
    },
    {
      "cell_type": "code",
      "metadata": {
        "id": "PA4KiajzK9NN",
        "colab_type": "code",
        "colab": {}
      },
      "source": [
        "from rl.agents import SARSAAgent\n",
        "from rl.policy import EpsGreedyQPolicy, BoltzmannQPolicy\n",
        "\n",
        "policy = BoltzmannQPolicy()"
      ],
      "execution_count": 0,
      "outputs": []
    },
    {
      "cell_type": "code",
      "metadata": {
        "id": "OETEUnYjK9NQ",
        "colab_type": "code",
        "colab": {}
      },
      "source": [
        "sarsa = SARSAAgent(model = model, policy = policy, nb_actions = env.action_space.n)"
      ],
      "execution_count": 0,
      "outputs": []
    },
    {
      "cell_type": "code",
      "metadata": {
        "id": "FCl_NbjQK9NT",
        "colab_type": "code",
        "colab": {}
      },
      "source": [
        "sarsa.compile('adam', metrics = ['mse'])"
      ],
      "execution_count": 0,
      "outputs": []
    },
    {
      "cell_type": "code",
      "metadata": {
        "id": "8Ms_GhlBK9NW",
        "colab_type": "code",
        "outputId": "8a8fdc20-8e29-46f2-b167-31c3d246a277",
        "colab": {
          "base_uri": "https://localhost:8080/",
          "height": 1000
        }
      },
      "source": [
        "sarsa.fit(env, nb_steps = 150000, visualize = False, verbose = 1)"
      ],
      "execution_count": 20,
      "outputs": [
        {
          "output_type": "stream",
          "text": [
            "Training for 150000 steps ...\n",
            "Interval 1 (0 steps performed)\n",
            "10000/10000 [==============================] - 67s 7ms/step - reward: -5.1124\n",
            "141 episodes - episode_reward: -362.574 [-1017.734, -39.969] - loss: 152.672 - mse: 89492.171 - mean_q: -176.048\n",
            "\n",
            "Interval 2 (10000 steps performed)\n",
            "10000/10000 [==============================] - 66s 7ms/step - reward: -1.9889\n",
            "126 episodes - episode_reward: -157.550 [-571.473, 41.258] - loss: 187.306 - mse: 20911.967 - mean_q: -89.699\n",
            "\n",
            "Interval 3 (20000 steps performed)\n",
            "10000/10000 [==============================] - 74s 7ms/step - reward: -0.9011\n",
            "55 episodes - episode_reward: -166.093 [-723.394, 11.778] - loss: 225.836 - mse: 14876.596 - mean_q: -61.372\n",
            "\n",
            "Interval 4 (30000 steps performed)\n",
            "10000/10000 [==============================] - 81s 8ms/step - reward: -0.1030\n",
            "15 episodes - episode_reward: -73.397 [-327.904, 19.926] - loss: 4.679 - mse: 1018.396 - mean_q: -10.267\n",
            "\n",
            "Interval 5 (40000 steps performed)\n",
            "10000/10000 [==============================] - 79s 8ms/step - reward: -0.0798\n",
            "19 episodes - episode_reward: -36.867 [-203.643, 73.142] - loss: 9.264 - mse: 764.822 - mean_q: -6.648\n",
            "\n",
            "Interval 6 (50000 steps performed)\n",
            "10000/10000 [==============================] - 77s 8ms/step - reward: -0.0069\n",
            "19 episodes - episode_reward: -3.040 [-180.812, 217.534] - loss: 4.261 - mse: 709.607 - mean_q: -4.175\n",
            "\n",
            "Interval 7 (60000 steps performed)\n",
            "10000/10000 [==============================] - 72s 7ms/step - reward: 0.1108\n",
            "23 episodes - episode_reward: 45.651 [-155.107, 237.703] - loss: 5.226 - mse: 403.311 - mean_q: 8.788\n",
            "\n",
            "Interval 8 (70000 steps performed)\n",
            "10000/10000 [==============================] - 72s 7ms/step - reward: -0.3998\n",
            "44 episodes - episode_reward: -89.974 [-217.635, 178.026] - loss: 29.098 - mse: 2138.214 - mean_q: -17.764\n",
            "\n",
            "Interval 9 (80000 steps performed)\n",
            "10000/10000 [==============================] - 76s 8ms/step - reward: 0.1276\n",
            "16 episodes - episode_reward: 71.789 [-157.205, 256.409] - loss: 2.149 - mse: 191.350 - mean_q: 4.519\n",
            "\n",
            "Interval 10 (90000 steps performed)\n",
            "10000/10000 [==============================] - 71s 7ms/step - reward: 0.1357\n",
            "43 episodes - episode_reward: 36.342 [-291.153, 265.876] - loss: 16.385 - mse: 1035.159 - mean_q: 9.639\n",
            "\n",
            "Interval 11 (100000 steps performed)\n",
            "10000/10000 [==============================] - 71s 7ms/step - reward: 0.3974\n",
            "35 episodes - episode_reward: 113.091 [-213.578, 289.297] - loss: 10.695 - mse: 783.754 - mean_q: 17.701\n",
            "\n",
            "Interval 12 (110000 steps performed)\n",
            "10000/10000 [==============================] - 73s 7ms/step - reward: 0.2364\n",
            "33 episodes - episode_reward: 70.051 [-85.996, 271.935] - loss: 4.102 - mse: 624.022 - mean_q: 17.960\n",
            "\n",
            "Interval 13 (120000 steps performed)\n",
            "10000/10000 [==============================] - 73s 7ms/step - reward: -0.0073\n",
            "33 episodes - episode_reward: -4.334 [-132.580, 235.976] - loss: 5.168 - mse: 654.223 - mean_q: 3.518\n",
            "\n",
            "Interval 14 (130000 steps performed)\n",
            "10000/10000 [==============================] - 72s 7ms/step - reward: 0.3112\n",
            "28 episodes - episode_reward: 111.945 [-55.938, 293.624] - loss: 2.734 - mse: 557.400 - mean_q: 21.537\n",
            "\n",
            "Interval 15 (140000 steps performed)\n",
            "10000/10000 [==============================] - 72s 7ms/step - reward: 0.1730\n",
            "done, took 1094.724 seconds\n"
          ],
          "name": "stdout"
        },
        {
          "output_type": "execute_result",
          "data": {
            "text/plain": [
              "<tensorflow.python.keras.callbacks.History at 0x7f8b3b7b8860>"
            ]
          },
          "metadata": {
            "tags": []
          },
          "execution_count": 20
        }
      ]
    },
    {
      "cell_type": "code",
      "metadata": {
        "id": "HxBxTicpK9NZ",
        "colab_type": "code",
        "outputId": "ff1f5ab3-bd30-4423-a307-57b79c87ac40",
        "colab": {
          "base_uri": "https://localhost:8080/",
          "height": 883
        }
      },
      "source": [
        "scores = sarsa.test(env, nb_episodes = 50, visualize= False)\n",
        "print('Average score over 50 test games:{}'.format(np.mean(scores.history['episode_reward'])))"
      ],
      "execution_count": 21,
      "outputs": [
        {
          "output_type": "stream",
          "text": [
            "Testing for 50 episodes ...\n",
            "Episode 1: reward: 141.169, steps: 657\n",
            "Episode 2: reward: 135.758, steps: 535\n",
            "Episode 3: reward: 230.162, steps: 324\n",
            "Episode 4: reward: 183.328, steps: 400\n",
            "Episode 5: reward: 121.921, steps: 1000\n",
            "Episode 6: reward: 225.794, steps: 315\n",
            "Episode 7: reward: 166.756, steps: 423\n",
            "Episode 8: reward: 110.110, steps: 1000\n",
            "Episode 9: reward: 186.658, steps: 394\n",
            "Episode 10: reward: -4.622, steps: 285\n",
            "Episode 11: reward: 149.593, steps: 560\n",
            "Episode 12: reward: 230.697, steps: 222\n",
            "Episode 13: reward: 165.552, steps: 579\n",
            "Episode 14: reward: 74.597, steps: 948\n",
            "Episode 15: reward: 77.932, steps: 1000\n",
            "Episode 16: reward: 217.809, steps: 221\n",
            "Episode 17: reward: 59.948, steps: 838\n",
            "Episode 18: reward: 218.925, steps: 203\n",
            "Episode 19: reward: 162.944, steps: 238\n",
            "Episode 20: reward: 186.184, steps: 229\n",
            "Episode 21: reward: 173.843, steps: 319\n",
            "Episode 22: reward: 165.903, steps: 397\n",
            "Episode 23: reward: 186.182, steps: 386\n",
            "Episode 24: reward: 84.308, steps: 1000\n",
            "Episode 25: reward: 189.970, steps: 437\n",
            "Episode 26: reward: 234.375, steps: 258\n",
            "Episode 27: reward: 111.384, steps: 1000\n",
            "Episode 28: reward: -36.553, steps: 136\n",
            "Episode 29: reward: 284.625, steps: 368\n",
            "Episode 30: reward: 271.870, steps: 264\n",
            "Episode 31: reward: 222.088, steps: 202\n",
            "Episode 32: reward: 237.968, steps: 323\n",
            "Episode 33: reward: 107.354, steps: 1000\n",
            "Episode 34: reward: 243.931, steps: 331\n",
            "Episode 35: reward: 260.795, steps: 499\n",
            "Episode 36: reward: 212.665, steps: 252\n",
            "Episode 37: reward: 99.565, steps: 1000\n",
            "Episode 38: reward: -168.228, steps: 827\n",
            "Episode 39: reward: 247.951, steps: 458\n",
            "Episode 40: reward: 192.469, steps: 219\n",
            "Episode 41: reward: 285.624, steps: 203\n",
            "Episode 42: reward: 139.523, steps: 1000\n",
            "Episode 43: reward: 215.080, steps: 312\n",
            "Episode 44: reward: 194.495, steps: 291\n",
            "Episode 45: reward: 261.536, steps: 239\n",
            "Episode 46: reward: 267.531, steps: 314\n",
            "Episode 47: reward: -102.294, steps: 556\n",
            "Episode 48: reward: 273.833, steps: 250\n",
            "Episode 49: reward: 10.424, steps: 323\n",
            "Episode 50: reward: 183.218, steps: 383\n",
            "Average score over 50 test games:161.85301785052516\n"
          ],
          "name": "stdout"
        }
      ]
    },
    {
      "cell_type": "code",
      "metadata": {
        "id": "Tt1jF9BXK9Nb",
        "colab_type": "code",
        "colab": {}
      },
      "source": [
        "# sarsa.save_weights('sarsa_weights.h5f', overwrite=True)"
      ],
      "execution_count": 0,
      "outputs": []
    },
    {
      "cell_type": "code",
      "metadata": {
        "id": "8SacTJpnK9Nf",
        "colab_type": "code",
        "colab": {}
      },
      "source": [
        "# sarsa.load_weights('sarsa_weights.h5f')"
      ],
      "execution_count": 0,
      "outputs": []
    },
    {
      "cell_type": "code",
      "metadata": {
        "id": "Rx8Z8i_AK9Nh",
        "colab_type": "code",
        "outputId": "c693a7de-ac64-4e7f-e8a7-67ee59e0ef5b",
        "colab": {
          "base_uri": "https://localhost:8080/",
          "height": 66
        }
      },
      "source": [
        "_ = sarsa.test(env, nb_episodes = 2, visualize= True)"
      ],
      "execution_count": 24,
      "outputs": [
        {
          "output_type": "stream",
          "text": [
            "Testing for 2 episodes ...\n",
            "Episode 1: reward: 198.830, steps: 546\n",
            "Episode 2: reward: 201.625, steps: 221\n"
          ],
          "name": "stdout"
        }
      ]
    },
    {
      "cell_type": "markdown",
      "metadata": {
        "id": "89emkOBot1RG",
        "colab_type": "text"
      },
      "source": [
        "# 定義行動函數應用已訓練好的model，輸入參數為狀態向量"
      ]
    },
    {
      "cell_type": "code",
      "metadata": {
        "id": "o5IS7pxhK9Nl",
        "colab_type": "code",
        "colab": {
          "base_uri": "https://localhost:8080/",
          "height": 116
        },
        "outputId": "af12d1b9-7ccc-41ba-bc62-b7e01c0de94c"
      },
      "source": [
        "def action_sarsa(observation):\n",
        "  observation = np.array(observation)\n",
        "  observation.shape=(1,1,8)\n",
        "\n",
        "  # print(observation)\n",
        "  next_action_reference = model.predict(observation)\n",
        "  # print(next_action_reference)\n",
        "\n",
        "  if next_action_reference[0,0] > next_action_reference[0,2]: next_action = 0\n",
        "  elif next_action_reference[0,1] > next_action_reference[0,2]: next_action = 1\n",
        "  elif next_action_reference[0,2] > next_action_reference[0,3]: next_action = 2\n",
        "  else: next_action = 3\n",
        "\n",
        "  return(next_action)\n",
        "\n",
        "env = wrap_env(gym.make('LunarLander-v2')) \n",
        "\n",
        "total_timesteps = 0\n",
        "for i_episode in range(5):\n",
        "    observation = env.reset()\n",
        "    for t in range(500):\n",
        "        env.render()\n",
        "        action = action_sarsa(observation)\n",
        "        observation, reward, done, info = env.step(action)\n",
        "        if done:\n",
        "            print(\"Episode finished after {} timesteps\".format(t+1))\n",
        "            total_timesteps += (t+1)\n",
        "            break\n",
        "\n",
        "print('Average score over 50 test games:{}'.format(total_timesteps/(i_episode+1)))\n",
        "env.close()  \n",
        "\n"
      ],
      "execution_count": 58,
      "outputs": [
        {
          "output_type": "stream",
          "text": [
            "Episode finished after 334 timesteps\n",
            "Episode finished after 254 timesteps\n",
            "Episode finished after 375 timesteps\n",
            "Episode finished after 389 timesteps\n",
            "Episode finished after 320 timesteps\n",
            "Average score over 50 test games:334.4\n"
          ],
          "name": "stdout"
        }
      ]
    },
    {
      "cell_type": "code",
      "metadata": {
        "id": "4avb7ZU8MRlb",
        "colab_type": "code",
        "colab": {
          "base_uri": "https://localhost:8080/",
          "height": 420
        },
        "outputId": "e5505f59-77b1-4df9-b775-08dcb0fe22d7"
      },
      "source": [
        "show_video()"
      ],
      "execution_count": 59,
      "outputs": [
        {
          "output_type": "display_data",
          "data": {
            "text/html": [
              "<video alt=\"test\" autoplay \n",
              "                loop controls style=\"height: 400px;\">\n",
              "                <source src=\"data:video/mp4;base64,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\" type=\"video/mp4\" />\n",
              "             </video>"
            ],
            "text/plain": [
              "<IPython.core.display.HTML object>"
            ]
          },
          "metadata": {
            "tags": []
          }
        }
      ]
    }
  ]
}